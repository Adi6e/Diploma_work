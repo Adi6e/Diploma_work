{
  "metadata": {
    "colab": {
      "provenance": [],
      "gpuType": "T4"
    },
    "gpuClass": "standard",
    "kernelspec": {
      "name": "python3",
      "display_name": "Python 3",
      "language": "python"
    },
    "language_info": {
      "name": "python",
      "version": "3.10.10",
      "mimetype": "text/x-python",
      "codemirror_mode": {
        "name": "ipython",
        "version": 3
      },
      "pygments_lexer": "ipython3",
      "nbconvert_exporter": "python",
      "file_extension": ".py"
    },
    "widgets": {
      "application/vnd.jupyter.widget-state+json": {
        "f5af5aac06264814befac8b683e59e59": {
          "model_module": "@jupyter-widgets/controls",
          "model_name": "HBoxModel",
          "model_module_version": "1.5.0",
          "state": {
            "_dom_classes": [],
            "_model_module": "@jupyter-widgets/controls",
            "_model_module_version": "1.5.0",
            "_model_name": "HBoxModel",
            "_view_count": null,
            "_view_module": "@jupyter-widgets/controls",
            "_view_module_version": "1.5.0",
            "_view_name": "HBoxView",
            "box_style": "",
            "children": [
              "IPY_MODEL_9ee79da9a2c14876b04da51697754afb",
              "IPY_MODEL_276046b6cf6544adb82842e13f4cea15",
              "IPY_MODEL_69beff4b8a9e4c59874d30c8d4bcbd4c"
            ],
            "layout": "IPY_MODEL_48447f3fe89b47fd8a66d89d35925ce2"
          }
        },
        "9ee79da9a2c14876b04da51697754afb": {
          "model_module": "@jupyter-widgets/controls",
          "model_name": "HTMLModel",
          "model_module_version": "1.5.0",
          "state": {
            "_dom_classes": [],
            "_model_module": "@jupyter-widgets/controls",
            "_model_module_version": "1.5.0",
            "_model_name": "HTMLModel",
            "_view_count": null,
            "_view_module": "@jupyter-widgets/controls",
            "_view_module_version": "1.5.0",
            "_view_name": "HTMLView",
            "description": "",
            "description_tooltip": null,
            "layout": "IPY_MODEL_bb1140cb457540438102d7536c1be876",
            "placeholder": "​",
            "style": "IPY_MODEL_cde19dd52d104b989c4e713673e05d56",
            "value": "Downloading (…)okenizer_config.json: 100%"
          }
        },
        "276046b6cf6544adb82842e13f4cea15": {
          "model_module": "@jupyter-widgets/controls",
          "model_name": "FloatProgressModel",
          "model_module_version": "1.5.0",
          "state": {
            "_dom_classes": [],
            "_model_module": "@jupyter-widgets/controls",
            "_model_module_version": "1.5.0",
            "_model_name": "FloatProgressModel",
            "_view_count": null,
            "_view_module": "@jupyter-widgets/controls",
            "_view_module_version": "1.5.0",
            "_view_name": "ProgressView",
            "bar_style": "success",
            "description": "",
            "description_tooltip": null,
            "layout": "IPY_MODEL_f638ad61ccf6479fb3fffff660d5d99e",
            "max": 29,
            "min": 0,
            "orientation": "horizontal",
            "style": "IPY_MODEL_f03b66524ece413c8647560bc1cc2f3a",
            "value": 29
          }
        },
        "69beff4b8a9e4c59874d30c8d4bcbd4c": {
          "model_module": "@jupyter-widgets/controls",
          "model_name": "HTMLModel",
          "model_module_version": "1.5.0",
          "state": {
            "_dom_classes": [],
            "_model_module": "@jupyter-widgets/controls",
            "_model_module_version": "1.5.0",
            "_model_name": "HTMLModel",
            "_view_count": null,
            "_view_module": "@jupyter-widgets/controls",
            "_view_module_version": "1.5.0",
            "_view_name": "HTMLView",
            "description": "",
            "description_tooltip": null,
            "layout": "IPY_MODEL_53471125c683497faad26023e90d18a7",
            "placeholder": "​",
            "style": "IPY_MODEL_8ed2a3b9b8ed477c8d0b03698d1a3553",
            "value": " 29.0/29.0 [00:00&lt;00:00, 1.82kB/s]"
          }
        },
        "48447f3fe89b47fd8a66d89d35925ce2": {
          "model_module": "@jupyter-widgets/base",
          "model_name": "LayoutModel",
          "model_module_version": "1.2.0",
          "state": {
            "_model_module": "@jupyter-widgets/base",
            "_model_module_version": "1.2.0",
            "_model_name": "LayoutModel",
            "_view_count": null,
            "_view_module": "@jupyter-widgets/base",
            "_view_module_version": "1.2.0",
            "_view_name": "LayoutView",
            "align_content": null,
            "align_items": null,
            "align_self": null,
            "border": null,
            "bottom": null,
            "display": null,
            "flex": null,
            "flex_flow": null,
            "grid_area": null,
            "grid_auto_columns": null,
            "grid_auto_flow": null,
            "grid_auto_rows": null,
            "grid_column": null,
            "grid_gap": null,
            "grid_row": null,
            "grid_template_areas": null,
            "grid_template_columns": null,
            "grid_template_rows": null,
            "height": null,
            "justify_content": null,
            "justify_items": null,
            "left": null,
            "margin": null,
            "max_height": null,
            "max_width": null,
            "min_height": null,
            "min_width": null,
            "object_fit": null,
            "object_position": null,
            "order": null,
            "overflow": null,
            "overflow_x": null,
            "overflow_y": null,
            "padding": null,
            "right": null,
            "top": null,
            "visibility": null,
            "width": null
          }
        },
        "bb1140cb457540438102d7536c1be876": {
          "model_module": "@jupyter-widgets/base",
          "model_name": "LayoutModel",
          "model_module_version": "1.2.0",
          "state": {
            "_model_module": "@jupyter-widgets/base",
            "_model_module_version": "1.2.0",
            "_model_name": "LayoutModel",
            "_view_count": null,
            "_view_module": "@jupyter-widgets/base",
            "_view_module_version": "1.2.0",
            "_view_name": "LayoutView",
            "align_content": null,
            "align_items": null,
            "align_self": null,
            "border": null,
            "bottom": null,
            "display": null,
            "flex": null,
            "flex_flow": null,
            "grid_area": null,
            "grid_auto_columns": null,
            "grid_auto_flow": null,
            "grid_auto_rows": null,
            "grid_column": null,
            "grid_gap": null,
            "grid_row": null,
            "grid_template_areas": null,
            "grid_template_columns": null,
            "grid_template_rows": null,
            "height": null,
            "justify_content": null,
            "justify_items": null,
            "left": null,
            "margin": null,
            "max_height": null,
            "max_width": null,
            "min_height": null,
            "min_width": null,
            "object_fit": null,
            "object_position": null,
            "order": null,
            "overflow": null,
            "overflow_x": null,
            "overflow_y": null,
            "padding": null,
            "right": null,
            "top": null,
            "visibility": null,
            "width": null
          }
        },
        "cde19dd52d104b989c4e713673e05d56": {
          "model_module": "@jupyter-widgets/controls",
          "model_name": "DescriptionStyleModel",
          "model_module_version": "1.5.0",
          "state": {
            "_model_module": "@jupyter-widgets/controls",
            "_model_module_version": "1.5.0",
            "_model_name": "DescriptionStyleModel",
            "_view_count": null,
            "_view_module": "@jupyter-widgets/base",
            "_view_module_version": "1.2.0",
            "_view_name": "StyleView",
            "description_width": ""
          }
        },
        "f638ad61ccf6479fb3fffff660d5d99e": {
          "model_module": "@jupyter-widgets/base",
          "model_name": "LayoutModel",
          "model_module_version": "1.2.0",
          "state": {
            "_model_module": "@jupyter-widgets/base",
            "_model_module_version": "1.2.0",
            "_model_name": "LayoutModel",
            "_view_count": null,
            "_view_module": "@jupyter-widgets/base",
            "_view_module_version": "1.2.0",
            "_view_name": "LayoutView",
            "align_content": null,
            "align_items": null,
            "align_self": null,
            "border": null,
            "bottom": null,
            "display": null,
            "flex": null,
            "flex_flow": null,
            "grid_area": null,
            "grid_auto_columns": null,
            "grid_auto_flow": null,
            "grid_auto_rows": null,
            "grid_column": null,
            "grid_gap": null,
            "grid_row": null,
            "grid_template_areas": null,
            "grid_template_columns": null,
            "grid_template_rows": null,
            "height": null,
            "justify_content": null,
            "justify_items": null,
            "left": null,
            "margin": null,
            "max_height": null,
            "max_width": null,
            "min_height": null,
            "min_width": null,
            "object_fit": null,
            "object_position": null,
            "order": null,
            "overflow": null,
            "overflow_x": null,
            "overflow_y": null,
            "padding": null,
            "right": null,
            "top": null,
            "visibility": null,
            "width": null
          }
        },
        "f03b66524ece413c8647560bc1cc2f3a": {
          "model_module": "@jupyter-widgets/controls",
          "model_name": "ProgressStyleModel",
          "model_module_version": "1.5.0",
          "state": {
            "_model_module": "@jupyter-widgets/controls",
            "_model_module_version": "1.5.0",
            "_model_name": "ProgressStyleModel",
            "_view_count": null,
            "_view_module": "@jupyter-widgets/base",
            "_view_module_version": "1.2.0",
            "_view_name": "StyleView",
            "bar_color": null,
            "description_width": ""
          }
        },
        "53471125c683497faad26023e90d18a7": {
          "model_module": "@jupyter-widgets/base",
          "model_name": "LayoutModel",
          "model_module_version": "1.2.0",
          "state": {
            "_model_module": "@jupyter-widgets/base",
            "_model_module_version": "1.2.0",
            "_model_name": "LayoutModel",
            "_view_count": null,
            "_view_module": "@jupyter-widgets/base",
            "_view_module_version": "1.2.0",
            "_view_name": "LayoutView",
            "align_content": null,
            "align_items": null,
            "align_self": null,
            "border": null,
            "bottom": null,
            "display": null,
            "flex": null,
            "flex_flow": null,
            "grid_area": null,
            "grid_auto_columns": null,
            "grid_auto_flow": null,
            "grid_auto_rows": null,
            "grid_column": null,
            "grid_gap": null,
            "grid_row": null,
            "grid_template_areas": null,
            "grid_template_columns": null,
            "grid_template_rows": null,
            "height": null,
            "justify_content": null,
            "justify_items": null,
            "left": null,
            "margin": null,
            "max_height": null,
            "max_width": null,
            "min_height": null,
            "min_width": null,
            "object_fit": null,
            "object_position": null,
            "order": null,
            "overflow": null,
            "overflow_x": null,
            "overflow_y": null,
            "padding": null,
            "right": null,
            "top": null,
            "visibility": null,
            "width": null
          }
        },
        "8ed2a3b9b8ed477c8d0b03698d1a3553": {
          "model_module": "@jupyter-widgets/controls",
          "model_name": "DescriptionStyleModel",
          "model_module_version": "1.5.0",
          "state": {
            "_model_module": "@jupyter-widgets/controls",
            "_model_module_version": "1.5.0",
            "_model_name": "DescriptionStyleModel",
            "_view_count": null,
            "_view_module": "@jupyter-widgets/base",
            "_view_module_version": "1.2.0",
            "_view_name": "StyleView",
            "description_width": ""
          }
        },
        "75bf5f51fefa4387819ad0b1a8d243cd": {
          "model_module": "@jupyter-widgets/controls",
          "model_name": "HBoxModel",
          "model_module_version": "1.5.0",
          "state": {
            "_dom_classes": [],
            "_model_module": "@jupyter-widgets/controls",
            "_model_module_version": "1.5.0",
            "_model_name": "HBoxModel",
            "_view_count": null,
            "_view_module": "@jupyter-widgets/controls",
            "_view_module_version": "1.5.0",
            "_view_name": "HBoxView",
            "box_style": "",
            "children": [
              "IPY_MODEL_522e889afa7548b69f39bb09642c6b6d",
              "IPY_MODEL_3e9b52932acc49f381c04204af66b08e",
              "IPY_MODEL_5104fe6d08e34bcd866faac4d010c9b4"
            ],
            "layout": "IPY_MODEL_f2e7064dd7d3460eb1e9dd9654d1762a"
          }
        },
        "522e889afa7548b69f39bb09642c6b6d": {
          "model_module": "@jupyter-widgets/controls",
          "model_name": "HTMLModel",
          "model_module_version": "1.5.0",
          "state": {
            "_dom_classes": [],
            "_model_module": "@jupyter-widgets/controls",
            "_model_module_version": "1.5.0",
            "_model_name": "HTMLModel",
            "_view_count": null,
            "_view_module": "@jupyter-widgets/controls",
            "_view_module_version": "1.5.0",
            "_view_name": "HTMLView",
            "description": "",
            "description_tooltip": null,
            "layout": "IPY_MODEL_7b40819f3ef8460b9e8ac2f4285ffd62",
            "placeholder": "​",
            "style": "IPY_MODEL_f32fa838a89c4db897a38596dc6ffcd8",
            "value": "Downloading (…)lve/main/config.json: 100%"
          }
        },
        "3e9b52932acc49f381c04204af66b08e": {
          "model_module": "@jupyter-widgets/controls",
          "model_name": "FloatProgressModel",
          "model_module_version": "1.5.0",
          "state": {
            "_dom_classes": [],
            "_model_module": "@jupyter-widgets/controls",
            "_model_module_version": "1.5.0",
            "_model_name": "FloatProgressModel",
            "_view_count": null,
            "_view_module": "@jupyter-widgets/controls",
            "_view_module_version": "1.5.0",
            "_view_name": "ProgressView",
            "bar_style": "success",
            "description": "",
            "description_tooltip": null,
            "layout": "IPY_MODEL_96f1da374946478fa8edc18ea38d8251",
            "max": 625,
            "min": 0,
            "orientation": "horizontal",
            "style": "IPY_MODEL_3b8ff60a6e8946efb73751550175d77a",
            "value": 625
          }
        },
        "5104fe6d08e34bcd866faac4d010c9b4": {
          "model_module": "@jupyter-widgets/controls",
          "model_name": "HTMLModel",
          "model_module_version": "1.5.0",
          "state": {
            "_dom_classes": [],
            "_model_module": "@jupyter-widgets/controls",
            "_model_module_version": "1.5.0",
            "_model_name": "HTMLModel",
            "_view_count": null,
            "_view_module": "@jupyter-widgets/controls",
            "_view_module_version": "1.5.0",
            "_view_name": "HTMLView",
            "description": "",
            "description_tooltip": null,
            "layout": "IPY_MODEL_15b19c250eb24cee8c3cef6c02d54242",
            "placeholder": "​",
            "style": "IPY_MODEL_1eddc9637d5345f68408dceefd6f9e7d",
            "value": " 625/625 [00:00&lt;00:00, 28.0kB/s]"
          }
        },
        "f2e7064dd7d3460eb1e9dd9654d1762a": {
          "model_module": "@jupyter-widgets/base",
          "model_name": "LayoutModel",
          "model_module_version": "1.2.0",
          "state": {
            "_model_module": "@jupyter-widgets/base",
            "_model_module_version": "1.2.0",
            "_model_name": "LayoutModel",
            "_view_count": null,
            "_view_module": "@jupyter-widgets/base",
            "_view_module_version": "1.2.0",
            "_view_name": "LayoutView",
            "align_content": null,
            "align_items": null,
            "align_self": null,
            "border": null,
            "bottom": null,
            "display": null,
            "flex": null,
            "flex_flow": null,
            "grid_area": null,
            "grid_auto_columns": null,
            "grid_auto_flow": null,
            "grid_auto_rows": null,
            "grid_column": null,
            "grid_gap": null,
            "grid_row": null,
            "grid_template_areas": null,
            "grid_template_columns": null,
            "grid_template_rows": null,
            "height": null,
            "justify_content": null,
            "justify_items": null,
            "left": null,
            "margin": null,
            "max_height": null,
            "max_width": null,
            "min_height": null,
            "min_width": null,
            "object_fit": null,
            "object_position": null,
            "order": null,
            "overflow": null,
            "overflow_x": null,
            "overflow_y": null,
            "padding": null,
            "right": null,
            "top": null,
            "visibility": null,
            "width": null
          }
        },
        "7b40819f3ef8460b9e8ac2f4285ffd62": {
          "model_module": "@jupyter-widgets/base",
          "model_name": "LayoutModel",
          "model_module_version": "1.2.0",
          "state": {
            "_model_module": "@jupyter-widgets/base",
            "_model_module_version": "1.2.0",
            "_model_name": "LayoutModel",
            "_view_count": null,
            "_view_module": "@jupyter-widgets/base",
            "_view_module_version": "1.2.0",
            "_view_name": "LayoutView",
            "align_content": null,
            "align_items": null,
            "align_self": null,
            "border": null,
            "bottom": null,
            "display": null,
            "flex": null,
            "flex_flow": null,
            "grid_area": null,
            "grid_auto_columns": null,
            "grid_auto_flow": null,
            "grid_auto_rows": null,
            "grid_column": null,
            "grid_gap": null,
            "grid_row": null,
            "grid_template_areas": null,
            "grid_template_columns": null,
            "grid_template_rows": null,
            "height": null,
            "justify_content": null,
            "justify_items": null,
            "left": null,
            "margin": null,
            "max_height": null,
            "max_width": null,
            "min_height": null,
            "min_width": null,
            "object_fit": null,
            "object_position": null,
            "order": null,
            "overflow": null,
            "overflow_x": null,
            "overflow_y": null,
            "padding": null,
            "right": null,
            "top": null,
            "visibility": null,
            "width": null
          }
        },
        "f32fa838a89c4db897a38596dc6ffcd8": {
          "model_module": "@jupyter-widgets/controls",
          "model_name": "DescriptionStyleModel",
          "model_module_version": "1.5.0",
          "state": {
            "_model_module": "@jupyter-widgets/controls",
            "_model_module_version": "1.5.0",
            "_model_name": "DescriptionStyleModel",
            "_view_count": null,
            "_view_module": "@jupyter-widgets/base",
            "_view_module_version": "1.2.0",
            "_view_name": "StyleView",
            "description_width": ""
          }
        },
        "96f1da374946478fa8edc18ea38d8251": {
          "model_module": "@jupyter-widgets/base",
          "model_name": "LayoutModel",
          "model_module_version": "1.2.0",
          "state": {
            "_model_module": "@jupyter-widgets/base",
            "_model_module_version": "1.2.0",
            "_model_name": "LayoutModel",
            "_view_count": null,
            "_view_module": "@jupyter-widgets/base",
            "_view_module_version": "1.2.0",
            "_view_name": "LayoutView",
            "align_content": null,
            "align_items": null,
            "align_self": null,
            "border": null,
            "bottom": null,
            "display": null,
            "flex": null,
            "flex_flow": null,
            "grid_area": null,
            "grid_auto_columns": null,
            "grid_auto_flow": null,
            "grid_auto_rows": null,
            "grid_column": null,
            "grid_gap": null,
            "grid_row": null,
            "grid_template_areas": null,
            "grid_template_columns": null,
            "grid_template_rows": null,
            "height": null,
            "justify_content": null,
            "justify_items": null,
            "left": null,
            "margin": null,
            "max_height": null,
            "max_width": null,
            "min_height": null,
            "min_width": null,
            "object_fit": null,
            "object_position": null,
            "order": null,
            "overflow": null,
            "overflow_x": null,
            "overflow_y": null,
            "padding": null,
            "right": null,
            "top": null,
            "visibility": null,
            "width": null
          }
        },
        "3b8ff60a6e8946efb73751550175d77a": {
          "model_module": "@jupyter-widgets/controls",
          "model_name": "ProgressStyleModel",
          "model_module_version": "1.5.0",
          "state": {
            "_model_module": "@jupyter-widgets/controls",
            "_model_module_version": "1.5.0",
            "_model_name": "ProgressStyleModel",
            "_view_count": null,
            "_view_module": "@jupyter-widgets/base",
            "_view_module_version": "1.2.0",
            "_view_name": "StyleView",
            "bar_color": null,
            "description_width": ""
          }
        },
        "15b19c250eb24cee8c3cef6c02d54242": {
          "model_module": "@jupyter-widgets/base",
          "model_name": "LayoutModel",
          "model_module_version": "1.2.0",
          "state": {
            "_model_module": "@jupyter-widgets/base",
            "_model_module_version": "1.2.0",
            "_model_name": "LayoutModel",
            "_view_count": null,
            "_view_module": "@jupyter-widgets/base",
            "_view_module_version": "1.2.0",
            "_view_name": "LayoutView",
            "align_content": null,
            "align_items": null,
            "align_self": null,
            "border": null,
            "bottom": null,
            "display": null,
            "flex": null,
            "flex_flow": null,
            "grid_area": null,
            "grid_auto_columns": null,
            "grid_auto_flow": null,
            "grid_auto_rows": null,
            "grid_column": null,
            "grid_gap": null,
            "grid_row": null,
            "grid_template_areas": null,
            "grid_template_columns": null,
            "grid_template_rows": null,
            "height": null,
            "justify_content": null,
            "justify_items": null,
            "left": null,
            "margin": null,
            "max_height": null,
            "max_width": null,
            "min_height": null,
            "min_width": null,
            "object_fit": null,
            "object_position": null,
            "order": null,
            "overflow": null,
            "overflow_x": null,
            "overflow_y": null,
            "padding": null,
            "right": null,
            "top": null,
            "visibility": null,
            "width": null
          }
        },
        "1eddc9637d5345f68408dceefd6f9e7d": {
          "model_module": "@jupyter-widgets/controls",
          "model_name": "DescriptionStyleModel",
          "model_module_version": "1.5.0",
          "state": {
            "_model_module": "@jupyter-widgets/controls",
            "_model_module_version": "1.5.0",
            "_model_name": "DescriptionStyleModel",
            "_view_count": null,
            "_view_module": "@jupyter-widgets/base",
            "_view_module_version": "1.2.0",
            "_view_name": "StyleView",
            "description_width": ""
          }
        },
        "fc64715405ec44769c0a7e92128700cf": {
          "model_module": "@jupyter-widgets/controls",
          "model_name": "HBoxModel",
          "model_module_version": "1.5.0",
          "state": {
            "_dom_classes": [],
            "_model_module": "@jupyter-widgets/controls",
            "_model_module_version": "1.5.0",
            "_model_name": "HBoxModel",
            "_view_count": null,
            "_view_module": "@jupyter-widgets/controls",
            "_view_module_version": "1.5.0",
            "_view_name": "HBoxView",
            "box_style": "",
            "children": [
              "IPY_MODEL_a00930c8859b4aad9198d5771535ae3a",
              "IPY_MODEL_429bfa30d9704ea183f548e545c8181b",
              "IPY_MODEL_4b1534a2cc7147dbad95185bb8bccbf2"
            ],
            "layout": "IPY_MODEL_87570d14b01c48d096a1a66d2e592a4b"
          }
        },
        "a00930c8859b4aad9198d5771535ae3a": {
          "model_module": "@jupyter-widgets/controls",
          "model_name": "HTMLModel",
          "model_module_version": "1.5.0",
          "state": {
            "_dom_classes": [],
            "_model_module": "@jupyter-widgets/controls",
            "_model_module_version": "1.5.0",
            "_model_name": "HTMLModel",
            "_view_count": null,
            "_view_module": "@jupyter-widgets/controls",
            "_view_module_version": "1.5.0",
            "_view_name": "HTMLView",
            "description": "",
            "description_tooltip": null,
            "layout": "IPY_MODEL_616399d9398d43e7becc1b665adf287a",
            "placeholder": "​",
            "style": "IPY_MODEL_ffeb3559dd03444c93cecee1917109bf",
            "value": "Downloading (…)solve/main/vocab.txt: 100%"
          }
        },
        "429bfa30d9704ea183f548e545c8181b": {
          "model_module": "@jupyter-widgets/controls",
          "model_name": "FloatProgressModel",
          "model_module_version": "1.5.0",
          "state": {
            "_dom_classes": [],
            "_model_module": "@jupyter-widgets/controls",
            "_model_module_version": "1.5.0",
            "_model_name": "FloatProgressModel",
            "_view_count": null,
            "_view_module": "@jupyter-widgets/controls",
            "_view_module_version": "1.5.0",
            "_view_name": "ProgressView",
            "bar_style": "success",
            "description": "",
            "description_tooltip": null,
            "layout": "IPY_MODEL_cc129bac1e904f23989632bee87b0775",
            "max": 995526,
            "min": 0,
            "orientation": "horizontal",
            "style": "IPY_MODEL_39d8af3d250a4cd08bb06f3977dfc718",
            "value": 995526
          }
        },
        "4b1534a2cc7147dbad95185bb8bccbf2": {
          "model_module": "@jupyter-widgets/controls",
          "model_name": "HTMLModel",
          "model_module_version": "1.5.0",
          "state": {
            "_dom_classes": [],
            "_model_module": "@jupyter-widgets/controls",
            "_model_module_version": "1.5.0",
            "_model_name": "HTMLModel",
            "_view_count": null,
            "_view_module": "@jupyter-widgets/controls",
            "_view_module_version": "1.5.0",
            "_view_name": "HTMLView",
            "description": "",
            "description_tooltip": null,
            "layout": "IPY_MODEL_e2f7c6210156403eb2287f58521391cf",
            "placeholder": "​",
            "style": "IPY_MODEL_82be8b57eaa04676be67ad3b590a41bd",
            "value": " 996k/996k [00:00&lt;00:00, 3.06MB/s]"
          }
        },
        "87570d14b01c48d096a1a66d2e592a4b": {
          "model_module": "@jupyter-widgets/base",
          "model_name": "LayoutModel",
          "model_module_version": "1.2.0",
          "state": {
            "_model_module": "@jupyter-widgets/base",
            "_model_module_version": "1.2.0",
            "_model_name": "LayoutModel",
            "_view_count": null,
            "_view_module": "@jupyter-widgets/base",
            "_view_module_version": "1.2.0",
            "_view_name": "LayoutView",
            "align_content": null,
            "align_items": null,
            "align_self": null,
            "border": null,
            "bottom": null,
            "display": null,
            "flex": null,
            "flex_flow": null,
            "grid_area": null,
            "grid_auto_columns": null,
            "grid_auto_flow": null,
            "grid_auto_rows": null,
            "grid_column": null,
            "grid_gap": null,
            "grid_row": null,
            "grid_template_areas": null,
            "grid_template_columns": null,
            "grid_template_rows": null,
            "height": null,
            "justify_content": null,
            "justify_items": null,
            "left": null,
            "margin": null,
            "max_height": null,
            "max_width": null,
            "min_height": null,
            "min_width": null,
            "object_fit": null,
            "object_position": null,
            "order": null,
            "overflow": null,
            "overflow_x": null,
            "overflow_y": null,
            "padding": null,
            "right": null,
            "top": null,
            "visibility": null,
            "width": null
          }
        },
        "616399d9398d43e7becc1b665adf287a": {
          "model_module": "@jupyter-widgets/base",
          "model_name": "LayoutModel",
          "model_module_version": "1.2.0",
          "state": {
            "_model_module": "@jupyter-widgets/base",
            "_model_module_version": "1.2.0",
            "_model_name": "LayoutModel",
            "_view_count": null,
            "_view_module": "@jupyter-widgets/base",
            "_view_module_version": "1.2.0",
            "_view_name": "LayoutView",
            "align_content": null,
            "align_items": null,
            "align_self": null,
            "border": null,
            "bottom": null,
            "display": null,
            "flex": null,
            "flex_flow": null,
            "grid_area": null,
            "grid_auto_columns": null,
            "grid_auto_flow": null,
            "grid_auto_rows": null,
            "grid_column": null,
            "grid_gap": null,
            "grid_row": null,
            "grid_template_areas": null,
            "grid_template_columns": null,
            "grid_template_rows": null,
            "height": null,
            "justify_content": null,
            "justify_items": null,
            "left": null,
            "margin": null,
            "max_height": null,
            "max_width": null,
            "min_height": null,
            "min_width": null,
            "object_fit": null,
            "object_position": null,
            "order": null,
            "overflow": null,
            "overflow_x": null,
            "overflow_y": null,
            "padding": null,
            "right": null,
            "top": null,
            "visibility": null,
            "width": null
          }
        },
        "ffeb3559dd03444c93cecee1917109bf": {
          "model_module": "@jupyter-widgets/controls",
          "model_name": "DescriptionStyleModel",
          "model_module_version": "1.5.0",
          "state": {
            "_model_module": "@jupyter-widgets/controls",
            "_model_module_version": "1.5.0",
            "_model_name": "DescriptionStyleModel",
            "_view_count": null,
            "_view_module": "@jupyter-widgets/base",
            "_view_module_version": "1.2.0",
            "_view_name": "StyleView",
            "description_width": ""
          }
        },
        "cc129bac1e904f23989632bee87b0775": {
          "model_module": "@jupyter-widgets/base",
          "model_name": "LayoutModel",
          "model_module_version": "1.2.0",
          "state": {
            "_model_module": "@jupyter-widgets/base",
            "_model_module_version": "1.2.0",
            "_model_name": "LayoutModel",
            "_view_count": null,
            "_view_module": "@jupyter-widgets/base",
            "_view_module_version": "1.2.0",
            "_view_name": "LayoutView",
            "align_content": null,
            "align_items": null,
            "align_self": null,
            "border": null,
            "bottom": null,
            "display": null,
            "flex": null,
            "flex_flow": null,
            "grid_area": null,
            "grid_auto_columns": null,
            "grid_auto_flow": null,
            "grid_auto_rows": null,
            "grid_column": null,
            "grid_gap": null,
            "grid_row": null,
            "grid_template_areas": null,
            "grid_template_columns": null,
            "grid_template_rows": null,
            "height": null,
            "justify_content": null,
            "justify_items": null,
            "left": null,
            "margin": null,
            "max_height": null,
            "max_width": null,
            "min_height": null,
            "min_width": null,
            "object_fit": null,
            "object_position": null,
            "order": null,
            "overflow": null,
            "overflow_x": null,
            "overflow_y": null,
            "padding": null,
            "right": null,
            "top": null,
            "visibility": null,
            "width": null
          }
        },
        "39d8af3d250a4cd08bb06f3977dfc718": {
          "model_module": "@jupyter-widgets/controls",
          "model_name": "ProgressStyleModel",
          "model_module_version": "1.5.0",
          "state": {
            "_model_module": "@jupyter-widgets/controls",
            "_model_module_version": "1.5.0",
            "_model_name": "ProgressStyleModel",
            "_view_count": null,
            "_view_module": "@jupyter-widgets/base",
            "_view_module_version": "1.2.0",
            "_view_name": "StyleView",
            "bar_color": null,
            "description_width": ""
          }
        },
        "e2f7c6210156403eb2287f58521391cf": {
          "model_module": "@jupyter-widgets/base",
          "model_name": "LayoutModel",
          "model_module_version": "1.2.0",
          "state": {
            "_model_module": "@jupyter-widgets/base",
            "_model_module_version": "1.2.0",
            "_model_name": "LayoutModel",
            "_view_count": null,
            "_view_module": "@jupyter-widgets/base",
            "_view_module_version": "1.2.0",
            "_view_name": "LayoutView",
            "align_content": null,
            "align_items": null,
            "align_self": null,
            "border": null,
            "bottom": null,
            "display": null,
            "flex": null,
            "flex_flow": null,
            "grid_area": null,
            "grid_auto_columns": null,
            "grid_auto_flow": null,
            "grid_auto_rows": null,
            "grid_column": null,
            "grid_gap": null,
            "grid_row": null,
            "grid_template_areas": null,
            "grid_template_columns": null,
            "grid_template_rows": null,
            "height": null,
            "justify_content": null,
            "justify_items": null,
            "left": null,
            "margin": null,
            "max_height": null,
            "max_width": null,
            "min_height": null,
            "min_width": null,
            "object_fit": null,
            "object_position": null,
            "order": null,
            "overflow": null,
            "overflow_x": null,
            "overflow_y": null,
            "padding": null,
            "right": null,
            "top": null,
            "visibility": null,
            "width": null
          }
        },
        "82be8b57eaa04676be67ad3b590a41bd": {
          "model_module": "@jupyter-widgets/controls",
          "model_name": "DescriptionStyleModel",
          "model_module_version": "1.5.0",
          "state": {
            "_model_module": "@jupyter-widgets/controls",
            "_model_module_version": "1.5.0",
            "_model_name": "DescriptionStyleModel",
            "_view_count": null,
            "_view_module": "@jupyter-widgets/base",
            "_view_module_version": "1.2.0",
            "_view_name": "StyleView",
            "description_width": ""
          }
        },
        "e381a7433dc4407f806094105e17fe21": {
          "model_module": "@jupyter-widgets/controls",
          "model_name": "HBoxModel",
          "model_module_version": "1.5.0",
          "state": {
            "_dom_classes": [],
            "_model_module": "@jupyter-widgets/controls",
            "_model_module_version": "1.5.0",
            "_model_name": "HBoxModel",
            "_view_count": null,
            "_view_module": "@jupyter-widgets/controls",
            "_view_module_version": "1.5.0",
            "_view_name": "HBoxView",
            "box_style": "",
            "children": [
              "IPY_MODEL_c248e3490388490e9567f445a00a9ec6",
              "IPY_MODEL_0d8163326b3d4a38bd2f7f8521a2536a",
              "IPY_MODEL_e18326ce3adc47f0bdea88d0c12c99a6"
            ],
            "layout": "IPY_MODEL_5f9d0c765fc5444bb4fe1d4a5d7fcbf6"
          }
        },
        "c248e3490388490e9567f445a00a9ec6": {
          "model_module": "@jupyter-widgets/controls",
          "model_name": "HTMLModel",
          "model_module_version": "1.5.0",
          "state": {
            "_dom_classes": [],
            "_model_module": "@jupyter-widgets/controls",
            "_model_module_version": "1.5.0",
            "_model_name": "HTMLModel",
            "_view_count": null,
            "_view_module": "@jupyter-widgets/controls",
            "_view_module_version": "1.5.0",
            "_view_name": "HTMLView",
            "description": "",
            "description_tooltip": null,
            "layout": "IPY_MODEL_5241b02060b643b88bb5a031528b8233",
            "placeholder": "​",
            "style": "IPY_MODEL_402669fedeec433e99785fb9d7b433e3",
            "value": "Downloading (…)/main/tokenizer.json: 100%"
          }
        },
        "0d8163326b3d4a38bd2f7f8521a2536a": {
          "model_module": "@jupyter-widgets/controls",
          "model_name": "FloatProgressModel",
          "model_module_version": "1.5.0",
          "state": {
            "_dom_classes": [],
            "_model_module": "@jupyter-widgets/controls",
            "_model_module_version": "1.5.0",
            "_model_name": "FloatProgressModel",
            "_view_count": null,
            "_view_module": "@jupyter-widgets/controls",
            "_view_module_version": "1.5.0",
            "_view_name": "ProgressView",
            "bar_style": "success",
            "description": "",
            "description_tooltip": null,
            "layout": "IPY_MODEL_d4370ad6f6b1494bb613dae4230d8a03",
            "max": 1961828,
            "min": 0,
            "orientation": "horizontal",
            "style": "IPY_MODEL_e3ae25b782c84fbeaaa8dff05fc3b254",
            "value": 1961828
          }
        },
        "e18326ce3adc47f0bdea88d0c12c99a6": {
          "model_module": "@jupyter-widgets/controls",
          "model_name": "HTMLModel",
          "model_module_version": "1.5.0",
          "state": {
            "_dom_classes": [],
            "_model_module": "@jupyter-widgets/controls",
            "_model_module_version": "1.5.0",
            "_model_name": "HTMLModel",
            "_view_count": null,
            "_view_module": "@jupyter-widgets/controls",
            "_view_module_version": "1.5.0",
            "_view_name": "HTMLView",
            "description": "",
            "description_tooltip": null,
            "layout": "IPY_MODEL_76b8a2a8f4af4a78a1d9ae8bc14357d3",
            "placeholder": "​",
            "style": "IPY_MODEL_44d8f16eb0be417695340911be3a9f69",
            "value": " 1.96M/1.96M [00:00&lt;00:00, 6.05MB/s]"
          }
        },
        "5f9d0c765fc5444bb4fe1d4a5d7fcbf6": {
          "model_module": "@jupyter-widgets/base",
          "model_name": "LayoutModel",
          "model_module_version": "1.2.0",
          "state": {
            "_model_module": "@jupyter-widgets/base",
            "_model_module_version": "1.2.0",
            "_model_name": "LayoutModel",
            "_view_count": null,
            "_view_module": "@jupyter-widgets/base",
            "_view_module_version": "1.2.0",
            "_view_name": "LayoutView",
            "align_content": null,
            "align_items": null,
            "align_self": null,
            "border": null,
            "bottom": null,
            "display": null,
            "flex": null,
            "flex_flow": null,
            "grid_area": null,
            "grid_auto_columns": null,
            "grid_auto_flow": null,
            "grid_auto_rows": null,
            "grid_column": null,
            "grid_gap": null,
            "grid_row": null,
            "grid_template_areas": null,
            "grid_template_columns": null,
            "grid_template_rows": null,
            "height": null,
            "justify_content": null,
            "justify_items": null,
            "left": null,
            "margin": null,
            "max_height": null,
            "max_width": null,
            "min_height": null,
            "min_width": null,
            "object_fit": null,
            "object_position": null,
            "order": null,
            "overflow": null,
            "overflow_x": null,
            "overflow_y": null,
            "padding": null,
            "right": null,
            "top": null,
            "visibility": null,
            "width": null
          }
        },
        "5241b02060b643b88bb5a031528b8233": {
          "model_module": "@jupyter-widgets/base",
          "model_name": "LayoutModel",
          "model_module_version": "1.2.0",
          "state": {
            "_model_module": "@jupyter-widgets/base",
            "_model_module_version": "1.2.0",
            "_model_name": "LayoutModel",
            "_view_count": null,
            "_view_module": "@jupyter-widgets/base",
            "_view_module_version": "1.2.0",
            "_view_name": "LayoutView",
            "align_content": null,
            "align_items": null,
            "align_self": null,
            "border": null,
            "bottom": null,
            "display": null,
            "flex": null,
            "flex_flow": null,
            "grid_area": null,
            "grid_auto_columns": null,
            "grid_auto_flow": null,
            "grid_auto_rows": null,
            "grid_column": null,
            "grid_gap": null,
            "grid_row": null,
            "grid_template_areas": null,
            "grid_template_columns": null,
            "grid_template_rows": null,
            "height": null,
            "justify_content": null,
            "justify_items": null,
            "left": null,
            "margin": null,
            "max_height": null,
            "max_width": null,
            "min_height": null,
            "min_width": null,
            "object_fit": null,
            "object_position": null,
            "order": null,
            "overflow": null,
            "overflow_x": null,
            "overflow_y": null,
            "padding": null,
            "right": null,
            "top": null,
            "visibility": null,
            "width": null
          }
        },
        "402669fedeec433e99785fb9d7b433e3": {
          "model_module": "@jupyter-widgets/controls",
          "model_name": "DescriptionStyleModel",
          "model_module_version": "1.5.0",
          "state": {
            "_model_module": "@jupyter-widgets/controls",
            "_model_module_version": "1.5.0",
            "_model_name": "DescriptionStyleModel",
            "_view_count": null,
            "_view_module": "@jupyter-widgets/base",
            "_view_module_version": "1.2.0",
            "_view_name": "StyleView",
            "description_width": ""
          }
        },
        "d4370ad6f6b1494bb613dae4230d8a03": {
          "model_module": "@jupyter-widgets/base",
          "model_name": "LayoutModel",
          "model_module_version": "1.2.0",
          "state": {
            "_model_module": "@jupyter-widgets/base",
            "_model_module_version": "1.2.0",
            "_model_name": "LayoutModel",
            "_view_count": null,
            "_view_module": "@jupyter-widgets/base",
            "_view_module_version": "1.2.0",
            "_view_name": "LayoutView",
            "align_content": null,
            "align_items": null,
            "align_self": null,
            "border": null,
            "bottom": null,
            "display": null,
            "flex": null,
            "flex_flow": null,
            "grid_area": null,
            "grid_auto_columns": null,
            "grid_auto_flow": null,
            "grid_auto_rows": null,
            "grid_column": null,
            "grid_gap": null,
            "grid_row": null,
            "grid_template_areas": null,
            "grid_template_columns": null,
            "grid_template_rows": null,
            "height": null,
            "justify_content": null,
            "justify_items": null,
            "left": null,
            "margin": null,
            "max_height": null,
            "max_width": null,
            "min_height": null,
            "min_width": null,
            "object_fit": null,
            "object_position": null,
            "order": null,
            "overflow": null,
            "overflow_x": null,
            "overflow_y": null,
            "padding": null,
            "right": null,
            "top": null,
            "visibility": null,
            "width": null
          }
        },
        "e3ae25b782c84fbeaaa8dff05fc3b254": {
          "model_module": "@jupyter-widgets/controls",
          "model_name": "ProgressStyleModel",
          "model_module_version": "1.5.0",
          "state": {
            "_model_module": "@jupyter-widgets/controls",
            "_model_module_version": "1.5.0",
            "_model_name": "ProgressStyleModel",
            "_view_count": null,
            "_view_module": "@jupyter-widgets/base",
            "_view_module_version": "1.2.0",
            "_view_name": "StyleView",
            "bar_color": null,
            "description_width": ""
          }
        },
        "76b8a2a8f4af4a78a1d9ae8bc14357d3": {
          "model_module": "@jupyter-widgets/base",
          "model_name": "LayoutModel",
          "model_module_version": "1.2.0",
          "state": {
            "_model_module": "@jupyter-widgets/base",
            "_model_module_version": "1.2.0",
            "_model_name": "LayoutModel",
            "_view_count": null,
            "_view_module": "@jupyter-widgets/base",
            "_view_module_version": "1.2.0",
            "_view_name": "LayoutView",
            "align_content": null,
            "align_items": null,
            "align_self": null,
            "border": null,
            "bottom": null,
            "display": null,
            "flex": null,
            "flex_flow": null,
            "grid_area": null,
            "grid_auto_columns": null,
            "grid_auto_flow": null,
            "grid_auto_rows": null,
            "grid_column": null,
            "grid_gap": null,
            "grid_row": null,
            "grid_template_areas": null,
            "grid_template_columns": null,
            "grid_template_rows": null,
            "height": null,
            "justify_content": null,
            "justify_items": null,
            "left": null,
            "margin": null,
            "max_height": null,
            "max_width": null,
            "min_height": null,
            "min_width": null,
            "object_fit": null,
            "object_position": null,
            "order": null,
            "overflow": null,
            "overflow_x": null,
            "overflow_y": null,
            "padding": null,
            "right": null,
            "top": null,
            "visibility": null,
            "width": null
          }
        },
        "44d8f16eb0be417695340911be3a9f69": {
          "model_module": "@jupyter-widgets/controls",
          "model_name": "DescriptionStyleModel",
          "model_module_version": "1.5.0",
          "state": {
            "_model_module": "@jupyter-widgets/controls",
            "_model_module_version": "1.5.0",
            "_model_name": "DescriptionStyleModel",
            "_view_count": null,
            "_view_module": "@jupyter-widgets/base",
            "_view_module_version": "1.2.0",
            "_view_name": "StyleView",
            "description_width": ""
          }
        },
        "66fa2cf7ff144c14a5d3406440b2c682": {
          "model_module": "@jupyter-widgets/controls",
          "model_name": "HBoxModel",
          "model_module_version": "1.5.0",
          "state": {
            "_dom_classes": [],
            "_model_module": "@jupyter-widgets/controls",
            "_model_module_version": "1.5.0",
            "_model_name": "HBoxModel",
            "_view_count": null,
            "_view_module": "@jupyter-widgets/controls",
            "_view_module_version": "1.5.0",
            "_view_name": "HBoxView",
            "box_style": "",
            "children": [
              "IPY_MODEL_d289e19ca26f4956ac2aebde3c490dcd",
              "IPY_MODEL_a68f2b8521ca4ed7b4c951beea71a6b6",
              "IPY_MODEL_18134cf458dc495ab8f8ebe1fde8e58e"
            ],
            "layout": "IPY_MODEL_6d18ecb57f6d40c5a1bac45f46c75df3"
          }
        },
        "d289e19ca26f4956ac2aebde3c490dcd": {
          "model_module": "@jupyter-widgets/controls",
          "model_name": "HTMLModel",
          "model_module_version": "1.5.0",
          "state": {
            "_dom_classes": [],
            "_model_module": "@jupyter-widgets/controls",
            "_model_module_version": "1.5.0",
            "_model_name": "HTMLModel",
            "_view_count": null,
            "_view_module": "@jupyter-widgets/controls",
            "_view_module_version": "1.5.0",
            "_view_name": "HTMLView",
            "description": "",
            "description_tooltip": null,
            "layout": "IPY_MODEL_6f0dee5aaacd41e399267dce33ad6c4a",
            "placeholder": "​",
            "style": "IPY_MODEL_3fb307b7f7734030aada94b1f85e775a",
            "value": "Downloading pytorch_model.bin: 100%"
          }
        },
        "a68f2b8521ca4ed7b4c951beea71a6b6": {
          "model_module": "@jupyter-widgets/controls",
          "model_name": "FloatProgressModel",
          "model_module_version": "1.5.0",
          "state": {
            "_dom_classes": [],
            "_model_module": "@jupyter-widgets/controls",
            "_model_module_version": "1.5.0",
            "_model_name": "FloatProgressModel",
            "_view_count": null,
            "_view_module": "@jupyter-widgets/controls",
            "_view_module_version": "1.5.0",
            "_view_name": "ProgressView",
            "bar_style": "success",
            "description": "",
            "description_tooltip": null,
            "layout": "IPY_MODEL_00e22100da6c4cefa899b3c32c86d08f",
            "max": 714314041,
            "min": 0,
            "orientation": "horizontal",
            "style": "IPY_MODEL_3978960559f348c39db19886762a6dc5",
            "value": 714314041
          }
        },
        "18134cf458dc495ab8f8ebe1fde8e58e": {
          "model_module": "@jupyter-widgets/controls",
          "model_name": "HTMLModel",
          "model_module_version": "1.5.0",
          "state": {
            "_dom_classes": [],
            "_model_module": "@jupyter-widgets/controls",
            "_model_module_version": "1.5.0",
            "_model_name": "HTMLModel",
            "_view_count": null,
            "_view_module": "@jupyter-widgets/controls",
            "_view_module_version": "1.5.0",
            "_view_name": "HTMLView",
            "description": "",
            "description_tooltip": null,
            "layout": "IPY_MODEL_9269e588afb741a7ae51c477577463cf",
            "placeholder": "​",
            "style": "IPY_MODEL_7ecf347cf1f04579bed7a67dadd5ea16",
            "value": " 714M/714M [00:03&lt;00:00, 247MB/s]"
          }
        },
        "6d18ecb57f6d40c5a1bac45f46c75df3": {
          "model_module": "@jupyter-widgets/base",
          "model_name": "LayoutModel",
          "model_module_version": "1.2.0",
          "state": {
            "_model_module": "@jupyter-widgets/base",
            "_model_module_version": "1.2.0",
            "_model_name": "LayoutModel",
            "_view_count": null,
            "_view_module": "@jupyter-widgets/base",
            "_view_module_version": "1.2.0",
            "_view_name": "LayoutView",
            "align_content": null,
            "align_items": null,
            "align_self": null,
            "border": null,
            "bottom": null,
            "display": null,
            "flex": null,
            "flex_flow": null,
            "grid_area": null,
            "grid_auto_columns": null,
            "grid_auto_flow": null,
            "grid_auto_rows": null,
            "grid_column": null,
            "grid_gap": null,
            "grid_row": null,
            "grid_template_areas": null,
            "grid_template_columns": null,
            "grid_template_rows": null,
            "height": null,
            "justify_content": null,
            "justify_items": null,
            "left": null,
            "margin": null,
            "max_height": null,
            "max_width": null,
            "min_height": null,
            "min_width": null,
            "object_fit": null,
            "object_position": null,
            "order": null,
            "overflow": null,
            "overflow_x": null,
            "overflow_y": null,
            "padding": null,
            "right": null,
            "top": null,
            "visibility": null,
            "width": null
          }
        },
        "6f0dee5aaacd41e399267dce33ad6c4a": {
          "model_module": "@jupyter-widgets/base",
          "model_name": "LayoutModel",
          "model_module_version": "1.2.0",
          "state": {
            "_model_module": "@jupyter-widgets/base",
            "_model_module_version": "1.2.0",
            "_model_name": "LayoutModel",
            "_view_count": null,
            "_view_module": "@jupyter-widgets/base",
            "_view_module_version": "1.2.0",
            "_view_name": "LayoutView",
            "align_content": null,
            "align_items": null,
            "align_self": null,
            "border": null,
            "bottom": null,
            "display": null,
            "flex": null,
            "flex_flow": null,
            "grid_area": null,
            "grid_auto_columns": null,
            "grid_auto_flow": null,
            "grid_auto_rows": null,
            "grid_column": null,
            "grid_gap": null,
            "grid_row": null,
            "grid_template_areas": null,
            "grid_template_columns": null,
            "grid_template_rows": null,
            "height": null,
            "justify_content": null,
            "justify_items": null,
            "left": null,
            "margin": null,
            "max_height": null,
            "max_width": null,
            "min_height": null,
            "min_width": null,
            "object_fit": null,
            "object_position": null,
            "order": null,
            "overflow": null,
            "overflow_x": null,
            "overflow_y": null,
            "padding": null,
            "right": null,
            "top": null,
            "visibility": null,
            "width": null
          }
        },
        "3fb307b7f7734030aada94b1f85e775a": {
          "model_module": "@jupyter-widgets/controls",
          "model_name": "DescriptionStyleModel",
          "model_module_version": "1.5.0",
          "state": {
            "_model_module": "@jupyter-widgets/controls",
            "_model_module_version": "1.5.0",
            "_model_name": "DescriptionStyleModel",
            "_view_count": null,
            "_view_module": "@jupyter-widgets/base",
            "_view_module_version": "1.2.0",
            "_view_name": "StyleView",
            "description_width": ""
          }
        },
        "00e22100da6c4cefa899b3c32c86d08f": {
          "model_module": "@jupyter-widgets/base",
          "model_name": "LayoutModel",
          "model_module_version": "1.2.0",
          "state": {
            "_model_module": "@jupyter-widgets/base",
            "_model_module_version": "1.2.0",
            "_model_name": "LayoutModel",
            "_view_count": null,
            "_view_module": "@jupyter-widgets/base",
            "_view_module_version": "1.2.0",
            "_view_name": "LayoutView",
            "align_content": null,
            "align_items": null,
            "align_self": null,
            "border": null,
            "bottom": null,
            "display": null,
            "flex": null,
            "flex_flow": null,
            "grid_area": null,
            "grid_auto_columns": null,
            "grid_auto_flow": null,
            "grid_auto_rows": null,
            "grid_column": null,
            "grid_gap": null,
            "grid_row": null,
            "grid_template_areas": null,
            "grid_template_columns": null,
            "grid_template_rows": null,
            "height": null,
            "justify_content": null,
            "justify_items": null,
            "left": null,
            "margin": null,
            "max_height": null,
            "max_width": null,
            "min_height": null,
            "min_width": null,
            "object_fit": null,
            "object_position": null,
            "order": null,
            "overflow": null,
            "overflow_x": null,
            "overflow_y": null,
            "padding": null,
            "right": null,
            "top": null,
            "visibility": null,
            "width": null
          }
        },
        "3978960559f348c39db19886762a6dc5": {
          "model_module": "@jupyter-widgets/controls",
          "model_name": "ProgressStyleModel",
          "model_module_version": "1.5.0",
          "state": {
            "_model_module": "@jupyter-widgets/controls",
            "_model_module_version": "1.5.0",
            "_model_name": "ProgressStyleModel",
            "_view_count": null,
            "_view_module": "@jupyter-widgets/base",
            "_view_module_version": "1.2.0",
            "_view_name": "StyleView",
            "bar_color": null,
            "description_width": ""
          }
        },
        "9269e588afb741a7ae51c477577463cf": {
          "model_module": "@jupyter-widgets/base",
          "model_name": "LayoutModel",
          "model_module_version": "1.2.0",
          "state": {
            "_model_module": "@jupyter-widgets/base",
            "_model_module_version": "1.2.0",
            "_model_name": "LayoutModel",
            "_view_count": null,
            "_view_module": "@jupyter-widgets/base",
            "_view_module_version": "1.2.0",
            "_view_name": "LayoutView",
            "align_content": null,
            "align_items": null,
            "align_self": null,
            "border": null,
            "bottom": null,
            "display": null,
            "flex": null,
            "flex_flow": null,
            "grid_area": null,
            "grid_auto_columns": null,
            "grid_auto_flow": null,
            "grid_auto_rows": null,
            "grid_column": null,
            "grid_gap": null,
            "grid_row": null,
            "grid_template_areas": null,
            "grid_template_columns": null,
            "grid_template_rows": null,
            "height": null,
            "justify_content": null,
            "justify_items": null,
            "left": null,
            "margin": null,
            "max_height": null,
            "max_width": null,
            "min_height": null,
            "min_width": null,
            "object_fit": null,
            "object_position": null,
            "order": null,
            "overflow": null,
            "overflow_x": null,
            "overflow_y": null,
            "padding": null,
            "right": null,
            "top": null,
            "visibility": null,
            "width": null
          }
        },
        "7ecf347cf1f04579bed7a67dadd5ea16": {
          "model_module": "@jupyter-widgets/controls",
          "model_name": "DescriptionStyleModel",
          "model_module_version": "1.5.0",
          "state": {
            "_model_module": "@jupyter-widgets/controls",
            "_model_module_version": "1.5.0",
            "_model_name": "DescriptionStyleModel",
            "_view_count": null,
            "_view_module": "@jupyter-widgets/base",
            "_view_module_version": "1.2.0",
            "_view_name": "StyleView",
            "description_width": ""
          }
        }
      }
    },
    "accelerator": "GPU"
  },
  "nbformat_minor": 5,
  "nbformat": 4,
  "cells": [
    {
      "cell_type": "code",
      "source": [
        "import re\n",
        "import string\n",
        "import nltk\n",
        "from nltk.corpus import stopwords\n",
        "from nltk.tokenize import word_tokenize\n",
        "from sklearn.model_selection import train_test_split\n",
        "from sklearn.feature_extraction.text import TfidfVectorizer\n",
        "import pandas as pd\n",
        "import tensorflow as tf\n",
        "from transformers import TFAutoModel, AutoTokenizer\n",
        "\n",
        "nltk.download('stopwords')\n",
        "nltk.download('punkt')"
      ],
      "metadata": {
        "colab": {
          "base_uri": "https://localhost:8080/"
        },
        "id": "12b0d4cf",
        "outputId": "cda86f51-620a-40a7-cb86-f4cb1e2d6b13",
        "execution": {
          "iopub.status.busy": "2023-05-21T09:31:40.136233Z",
          "iopub.execute_input": "2023-05-21T09:31:40.136731Z",
          "iopub.status.idle": "2023-05-21T09:31:49.314700Z",
          "shell.execute_reply.started": "2023-05-21T09:31:40.136687Z",
          "shell.execute_reply": "2023-05-21T09:31:49.313735Z"
        },
        "trusted": true
      },
      "execution_count": null,
      "outputs": [
        {
          "name": "stderr",
          "text": "/opt/conda/lib/python3.10/site-packages/scipy/__init__.py:146: UserWarning: A NumPy version >=1.16.5 and <1.23.0 is required for this version of SciPy (detected version 1.23.5\n  warnings.warn(f\"A NumPy version >={np_minversion} and <{np_maxversion}\"\n",
          "output_type": "stream"
        },
        {
          "name": "stdout",
          "text": "[nltk_data] Downloading package stopwords to /usr/share/nltk_data...\n[nltk_data]   Package stopwords is already up-to-date!\n[nltk_data] Downloading package punkt to /usr/share/nltk_data...\n[nltk_data]   Package punkt is already up-to-date!\n",
          "output_type": "stream"
        },
        {
          "execution_count": 1,
          "output_type": "execute_result",
          "data": {
            "text/plain": "True"
          },
          "metadata": {}
        }
      ],
      "id": "12b0d4cf"
    },
    {
      "cell_type": "code",
      "source": [
        "# Load the dataset\n",
        "df = pd.read_csv(\"/kaggle/input/russian-tweets-preprocessed/90000_preprocess.csv\", encoding='utf-8')\n",
        "df.head()"
      ],
      "metadata": {
        "colab": {
          "base_uri": "https://localhost:8080/",
          "height": 206
        },
        "id": "EOdlsyO5QJPj",
        "outputId": "0bbd79fe-ca16-4c27-b280-a2a301d03c03",
        "execution": {
          "iopub.status.busy": "2023-05-21T09:31:49.316519Z",
          "iopub.execute_input": "2023-05-21T09:31:49.317892Z",
          "iopub.status.idle": "2023-05-21T09:31:50.591582Z",
          "shell.execute_reply.started": "2023-05-21T09:31:49.317857Z",
          "shell.execute_reply": "2023-05-21T09:31:50.590585Z"
        },
        "trusted": true
      },
      "execution_count": null,
      "outputs": [
        {
          "execution_count": 2,
          "output_type": "execute_result",
          "data": {
            "text/plain": "   tweet_id  label                                         tweet_text  \\\n0   50531.0      2  Семья с риском сокращения Covid-19.И я (и друг...   \n1   50101.0      0  ['Некоторые британские # Panic кажется Покупка...   \n2   84380.0      1  ['Company genomics 23andme # хочет добывать св...   \n3   70561.0      2  Компания Gilead подала в FDA запрос на отмену ...   \n4   53293.0      2  Калифорния запускает новый всеобъемлющий, удоб...   \n\n                                          preprocess  \n0  семья риск сокращение covid работник супермарк...  \n1  некоторый британский panic казаться покупка эт...  \n2  company genomics andme хотеть добывать свой да...  \n3  компания gilead подать fda запрос отмена присв...  \n4  калифорния запускать новый всеобъемлющий удобн...  ",
            "text/html": "<div>\n<style scoped>\n    .dataframe tbody tr th:only-of-type {\n        vertical-align: middle;\n    }\n\n    .dataframe tbody tr th {\n        vertical-align: top;\n    }\n\n    .dataframe thead th {\n        text-align: right;\n    }\n</style>\n<table border=\"1\" class=\"dataframe\">\n  <thead>\n    <tr style=\"text-align: right;\">\n      <th></th>\n      <th>tweet_id</th>\n      <th>label</th>\n      <th>tweet_text</th>\n      <th>preprocess</th>\n    </tr>\n  </thead>\n  <tbody>\n    <tr>\n      <th>0</th>\n      <td>50531.0</td>\n      <td>2</td>\n      <td>Семья с риском сокращения Covid-19.И я (и друг...</td>\n      <td>семья риск сокращение covid работник супермарк...</td>\n    </tr>\n    <tr>\n      <th>1</th>\n      <td>50101.0</td>\n      <td>0</td>\n      <td>['Некоторые британские # Panic кажется Покупка...</td>\n      <td>некоторый британский panic казаться покупка эт...</td>\n    </tr>\n    <tr>\n      <th>2</th>\n      <td>84380.0</td>\n      <td>1</td>\n      <td>['Company genomics 23andme # хочет добывать св...</td>\n      <td>company genomics andme хотеть добывать свой да...</td>\n    </tr>\n    <tr>\n      <th>3</th>\n      <td>70561.0</td>\n      <td>2</td>\n      <td>Компания Gilead подала в FDA запрос на отмену ...</td>\n      <td>компания gilead подать fda запрос отмена присв...</td>\n    </tr>\n    <tr>\n      <th>4</th>\n      <td>53293.0</td>\n      <td>2</td>\n      <td>Калифорния запускает новый всеобъемлющий, удоб...</td>\n      <td>калифорния запускать новый всеобъемлющий удобн...</td>\n    </tr>\n  </tbody>\n</table>\n</div>"
          },
          "metadata": {}
        }
      ],
      "id": "EOdlsyO5QJPj"
    },
    {
      "cell_type": "code",
      "source": [
        "# Define function for preprocessing and cleaning the text\n",
        "def clean_text(text):\n",
        "    text = text.lower() # convert to lowercase\n",
        "    text = re.sub(r'http\\S+', '', text) # remove URLs\n",
        "    text = re.sub(r'#\\S+', '', text) # remove hashtags\n",
        "    text = re.sub(r'[^\\w\\s]', '', text) # remove punctuation\n",
        "    text = re.sub(r'\\d+', '', text) # remove digits\n",
        "    text = text.strip() # remove trailing and leading spaces\n",
        "    text = \" \".join([word for word in word_tokenize(text) \n",
        "      if word not in stopwords.words('russian')]) # remove stop words\n",
        "    return text"
      ],
      "metadata": {
        "id": "Pg2eA7yAQJTO",
        "trusted": true
      },
      "execution_count": null,
      "outputs": [],
      "id": "Pg2eA7yAQJTO"
    },
    {
      "cell_type": "code",
      "source": [
        "!pip install -U spacy>=3.0\n",
        "!python -m spacy download ru_core_news_md"
      ],
      "metadata": {
        "id": "kn0Q6olqgxSh",
        "trusted": true
      },
      "execution_count": null,
      "outputs": [],
      "id": "kn0Q6olqgxSh"
    },
    {
      "cell_type": "code",
      "source": [
        "import ru_core_news_md\n",
        "import spacy\n",
        "\n",
        "nlp = ru_core_news_md.load()\n",
        "\n",
        "def get_lemma(text):\n",
        "  document = nlp(text)\n",
        "  tokens = []\n",
        "  for token in document:\n",
        "      tokens.append(token.lemma_.lower())\n",
        "  return tokens"
      ],
      "metadata": {
        "id": "x_Wv3HdQlLbh",
        "trusted": true
      },
      "execution_count": null,
      "outputs": [],
      "id": "x_Wv3HdQlLbh"
    },
    {
      "cell_type": "code",
      "source": [
        "def get_lemma(text):\n",
        "  document = nlp(text)\n",
        "  tokens = []\n",
        "  for token in document:\n",
        "      tokens.append(token.lemma_.lower())\n",
        "  return tokens"
      ],
      "metadata": {
        "id": "wyUPtaRi4bNb",
        "trusted": true
      },
      "execution_count": null,
      "outputs": [],
      "id": "wyUPtaRi4bNb"
    },
    {
      "cell_type": "code",
      "source": [
        "# Preprocess and clean the text data\n",
        "df['clean_text'] = df['tweet_text'].apply(clean_text)"
      ],
      "metadata": {
        "id": "khxaDetVQJY6",
        "trusted": true
      },
      "execution_count": null,
      "outputs": [],
      "id": "khxaDetVQJY6"
    },
    {
      "cell_type": "code",
      "source": [
        "# Lemmatization\n",
        "df['preprocess'] = df['tweet_text'].apply(get_lemma)\n",
        "df['preprocess'] = df['lemmatized_text'].astype(str).values"
      ],
      "metadata": {
        "id": "KlNZ_FeQgymU",
        "trusted": true
      },
      "execution_count": null,
      "outputs": [],
      "id": "KlNZ_FeQgymU"
    },
    {
      "cell_type": "code",
      "source": [
        "df.to_csv(\"./drive/MyDrive/55000_preprocessed_dataset.csv\", encoding='utf-8', index=False)"
      ],
      "metadata": {
        "id": "knH97mZCrnbo",
        "trusted": true
      },
      "execution_count": null,
      "outputs": [],
      "id": "knH97mZCrnbo"
    },
    {
      "cell_type": "code",
      "source": [
        "# Split the data into training and testing sets\n",
        "X_train, X_test, y_train, y_test = train_test_split(df['preprocess'], df['label'], test_size=0.2, random_state=42)"
      ],
      "metadata": {
        "id": "eQshvgERQMXJ",
        "execution": {
          "iopub.status.busy": "2023-05-21T09:31:54.044619Z",
          "iopub.execute_input": "2023-05-21T09:31:54.045031Z",
          "iopub.status.idle": "2023-05-21T09:31:54.071222Z",
          "shell.execute_reply.started": "2023-05-21T09:31:54.044998Z",
          "shell.execute_reply": "2023-05-21T09:31:54.070339Z"
        },
        "trusted": true
      },
      "execution_count": null,
      "outputs": [],
      "id": "eQshvgERQMXJ"
    },
    {
      "cell_type": "code",
      "source": [
        "# Load the transformer and tokenizer\n",
        "model_name = \"bert-base-multilingual-cased\"\n",
        "tokenizer = AutoTokenizer.from_pretrained(model_name)\n",
        "transformer_model = TFAutoModel.from_pretrained(model_name, from_pt=True)\n",
        "\n",
        "# Set the model to not be trainable\n",
        "transformer_model.trainable = False"
      ],
      "metadata": {
        "colab": {
          "base_uri": "https://localhost:8080/",
          "height": 288,
          "referenced_widgets": [
            "f5af5aac06264814befac8b683e59e59",
            "9ee79da9a2c14876b04da51697754afb",
            "276046b6cf6544adb82842e13f4cea15",
            "69beff4b8a9e4c59874d30c8d4bcbd4c",
            "48447f3fe89b47fd8a66d89d35925ce2",
            "bb1140cb457540438102d7536c1be876",
            "cde19dd52d104b989c4e713673e05d56",
            "f638ad61ccf6479fb3fffff660d5d99e",
            "f03b66524ece413c8647560bc1cc2f3a",
            "53471125c683497faad26023e90d18a7",
            "8ed2a3b9b8ed477c8d0b03698d1a3553",
            "75bf5f51fefa4387819ad0b1a8d243cd",
            "522e889afa7548b69f39bb09642c6b6d",
            "3e9b52932acc49f381c04204af66b08e",
            "5104fe6d08e34bcd866faac4d010c9b4",
            "f2e7064dd7d3460eb1e9dd9654d1762a",
            "7b40819f3ef8460b9e8ac2f4285ffd62",
            "f32fa838a89c4db897a38596dc6ffcd8",
            "96f1da374946478fa8edc18ea38d8251",
            "3b8ff60a6e8946efb73751550175d77a",
            "15b19c250eb24cee8c3cef6c02d54242",
            "1eddc9637d5345f68408dceefd6f9e7d",
            "fc64715405ec44769c0a7e92128700cf",
            "a00930c8859b4aad9198d5771535ae3a",
            "429bfa30d9704ea183f548e545c8181b",
            "4b1534a2cc7147dbad95185bb8bccbf2",
            "87570d14b01c48d096a1a66d2e592a4b",
            "616399d9398d43e7becc1b665adf287a",
            "ffeb3559dd03444c93cecee1917109bf",
            "cc129bac1e904f23989632bee87b0775",
            "39d8af3d250a4cd08bb06f3977dfc718",
            "e2f7c6210156403eb2287f58521391cf",
            "82be8b57eaa04676be67ad3b590a41bd",
            "e381a7433dc4407f806094105e17fe21",
            "c248e3490388490e9567f445a00a9ec6",
            "0d8163326b3d4a38bd2f7f8521a2536a",
            "e18326ce3adc47f0bdea88d0c12c99a6",
            "5f9d0c765fc5444bb4fe1d4a5d7fcbf6",
            "5241b02060b643b88bb5a031528b8233",
            "402669fedeec433e99785fb9d7b433e3",
            "d4370ad6f6b1494bb613dae4230d8a03",
            "e3ae25b782c84fbeaaa8dff05fc3b254",
            "76b8a2a8f4af4a78a1d9ae8bc14357d3",
            "44d8f16eb0be417695340911be3a9f69",
            "66fa2cf7ff144c14a5d3406440b2c682",
            "d289e19ca26f4956ac2aebde3c490dcd",
            "a68f2b8521ca4ed7b4c951beea71a6b6",
            "18134cf458dc495ab8f8ebe1fde8e58e",
            "6d18ecb57f6d40c5a1bac45f46c75df3",
            "6f0dee5aaacd41e399267dce33ad6c4a",
            "3fb307b7f7734030aada94b1f85e775a",
            "00e22100da6c4cefa899b3c32c86d08f",
            "3978960559f348c39db19886762a6dc5",
            "9269e588afb741a7ae51c477577463cf",
            "7ecf347cf1f04579bed7a67dadd5ea16",
            "118d4aa20bfa43b39b46a46f97081afd",
            "c4c0fd344d1b4acba22e15b9e76fd4e1",
            "8b844c67eb4d427da724a68ebdf56742",
            "14167b172bae41429345f5a445177179",
            "f96271b0c97b43be89d14241eec81564"
          ]
        },
        "id": "HFsqoLMuQMa9",
        "outputId": "38ef9ce2-e13d-42a2-eac9-e32bb43dc0b9",
        "execution": {
          "iopub.status.busy": "2023-05-21T09:31:55.524807Z",
          "iopub.execute_input": "2023-05-21T09:31:55.525307Z",
          "iopub.status.idle": "2023-05-21T09:32:14.994732Z",
          "shell.execute_reply.started": "2023-05-21T09:31:55.525267Z",
          "shell.execute_reply": "2023-05-21T09:32:14.993750Z"
        },
        "trusted": true
      },
      "execution_count": null,
      "outputs": [
        {
          "output_type": "display_data",
          "data": {
            "text/plain": "Downloading (…)okenizer_config.json:   0%|          | 0.00/29.0 [00:00<?, ?B/s]",
            "application/vnd.jupyter.widget-view+json": {
              "version_major": 2,
              "version_minor": 0,
              "model_id": "118d4aa20bfa43b39b46a46f97081afd"
            }
          },
          "metadata": {}
        },
        {
          "output_type": "display_data",
          "data": {
            "text/plain": "Downloading (…)lve/main/config.json:   0%|          | 0.00/625 [00:00<?, ?B/s]",
            "application/vnd.jupyter.widget-view+json": {
              "version_major": 2,
              "version_minor": 0,
              "model_id": "c4c0fd344d1b4acba22e15b9e76fd4e1"
            }
          },
          "metadata": {}
        },
        {
          "output_type": "display_data",
          "data": {
            "text/plain": "Downloading (…)solve/main/vocab.txt:   0%|          | 0.00/996k [00:00<?, ?B/s]",
            "application/vnd.jupyter.widget-view+json": {
              "version_major": 2,
              "version_minor": 0,
              "model_id": "8b844c67eb4d427da724a68ebdf56742"
            }
          },
          "metadata": {}
        },
        {
          "output_type": "display_data",
          "data": {
            "text/plain": "Downloading (…)/main/tokenizer.json:   0%|          | 0.00/1.96M [00:00<?, ?B/s]",
            "application/vnd.jupyter.widget-view+json": {
              "version_major": 2,
              "version_minor": 0,
              "model_id": "14167b172bae41429345f5a445177179"
            }
          },
          "metadata": {}
        },
        {
          "output_type": "display_data",
          "data": {
            "text/plain": "Downloading pytorch_model.bin:   0%|          | 0.00/714M [00:00<?, ?B/s]",
            "application/vnd.jupyter.widget-view+json": {
              "version_major": 2,
              "version_minor": 0,
              "model_id": "f96271b0c97b43be89d14241eec81564"
            }
          },
          "metadata": {}
        },
        {
          "name": "stderr",
          "text": "Some weights of the PyTorch model were not used when initializing the TF 2.0 model TFBertModel: ['cls.predictions.transform.LayerNorm.weight', 'cls.seq_relationship.weight', 'cls.predictions.transform.dense.bias', 'cls.predictions.transform.dense.weight', 'cls.predictions.decoder.weight', 'cls.predictions.bias', 'cls.predictions.transform.LayerNorm.bias', 'cls.seq_relationship.bias']\n- This IS expected if you are initializing TFBertModel from a PyTorch model trained on another task or with another architecture (e.g. initializing a TFBertForSequenceClassification model from a BertForPreTraining model).\n- This IS NOT expected if you are initializing TFBertModel from a PyTorch model that you expect to be exactly identical (e.g. initializing a TFBertForSequenceClassification model from a BertForSequenceClassification model).\nAll the weights of TFBertModel were initialized from the PyTorch model.\nIf your task is similar to the task the model of the checkpoint was trained on, you can already use TFBertModel for predictions without further training.\n",
          "output_type": "stream"
        }
      ],
      "id": "HFsqoLMuQMa9"
    },
    {
      "cell_type": "code",
      "source": [
        "# Encode the text using the tokenizer\n",
        "X_train_encoded = tokenizer.batch_encode_plus(\n",
        "    X_train.tolist(),\n",
        "    add_special_tokens=True,\n",
        "    return_attention_mask=True,\n",
        "    return_token_type_ids=False,\n",
        "    padding='max_length',\n",
        "    max_length=400,\n",
        "    truncation='longest_first',\n",
        "    return_tensors='tf'\n",
        ")\n",
        "\n",
        "X_test_encoded = tokenizer.batch_encode_plus(\n",
        "    X_test.tolist(),\n",
        "    add_special_tokens=True,\n",
        "    return_attention_mask=True,\n",
        "    return_token_type_ids=False,\n",
        "    padding='max_length',\n",
        "    max_length=400,\n",
        "    truncation='longest_first',\n",
        "    return_tensors='tf'\n",
        ")"
      ],
      "metadata": {
        "id": "5KZYLbz4QMdg",
        "execution": {
          "iopub.status.busy": "2023-05-21T09:32:14.996579Z",
          "iopub.execute_input": "2023-05-21T09:32:14.997167Z",
          "iopub.status.idle": "2023-05-21T09:32:32.775900Z",
          "shell.execute_reply.started": "2023-05-21T09:32:14.997132Z",
          "shell.execute_reply": "2023-05-21T09:32:32.774911Z"
        },
        "trusted": true
      },
      "execution_count": null,
      "outputs": [],
      "id": "5KZYLbz4QMdg"
    },
    {
      "cell_type": "code",
      "source": [
        "# Convert the encoded text to tensor\n",
        "X_train_tensor = {key: tf.convert_to_tensor(X_train_encoded[key]) for key in X_train_encoded.keys()}\n",
        "X_test_tensor = {key: tf.convert_to_tensor(X_test_encoded[key]) for key in X_test_encoded.keys()}"
      ],
      "metadata": {
        "id": "3fLbpm5XQMf8",
        "execution": {
          "iopub.status.busy": "2023-05-21T09:32:36.508762Z",
          "iopub.execute_input": "2023-05-21T09:32:36.509342Z",
          "iopub.status.idle": "2023-05-21T09:32:36.517549Z",
          "shell.execute_reply.started": "2023-05-21T09:32:36.509308Z",
          "shell.execute_reply": "2023-05-21T09:32:36.516562Z"
        },
        "trusted": true
      },
      "execution_count": null,
      "outputs": [],
      "id": "3fLbpm5XQMf8"
    },
    {
      "cell_type": "code",
      "source": [
        "from tensorflow.keras.layers import Input, Bidirectional, GRU, Dense\n",
        "from tensorflow.keras.models import Model"
      ],
      "metadata": {
        "id": "FS7xARTiRMbC"
      },
      "id": "FS7xARTiRMbC",
      "execution_count": null,
      "outputs": []
    },
    {
      "cell_type": "code",
      "source": [
        "# Define the model architecture\n",
        "input_ids = Input(shape=(400,), dtype=tf.int32, name='input_ids')\n",
        "attention_mask = Input(shape=(400,), dtype=tf.int32, name='attention_mask')\n",
        "\n",
        "sequence_output = transformer_model(input_ids, attention_mask)[0]\n",
        "gru_output1 = Bidirectional(GRU(400))(sequence_output)\n",
        "dense_output1 = Dense(400, activation='relu')(gru_output1)\n",
        "output = Dense(3, activation='softmax')(dense_output1)\n",
        "\n",
        "model = Model(inputs=[input_ids, attention_mask], outputs=output)"
      ],
      "metadata": {
        "id": "pwGi3ve9QMiY",
        "execution": {
          "iopub.status.busy": "2023-05-21T09:32:41.209596Z",
          "iopub.execute_input": "2023-05-21T09:32:41.210064Z",
          "iopub.status.idle": "2023-05-21T09:32:49.542462Z",
          "shell.execute_reply.started": "2023-05-21T09:32:41.210025Z",
          "shell.execute_reply": "2023-05-21T09:32:49.541529Z"
        },
        "trusted": true
      },
      "execution_count": null,
      "outputs": [],
      "id": "pwGi3ve9QMiY"
    },
    {
      "cell_type": "code",
      "source": [
        "from tensorflow.keras.optimizers import Adam\n",
        "import tensorflow_addons as tfa\n",
        "# Compile the model\n",
        "optimizer = Adam(learning_rate=0.0005)\n",
        "loss = 'categorical_crossentropy'\n",
        "metrics=[\n",
        "    tf.keras.metrics.CategoricalAccuracy(name='cat_accuracy'),\n",
        "    tf.keras.metrics.Recall(name='recall'),\n",
        "    tf.keras.metrics.Precision(name='precision'),\n",
        "    tfa.metrics.F1Score(name='f1_score', num_classes=3)\n",
        "]\n",
        "model.compile(optimizer=optimizer, loss=loss, metrics=metrics)"
      ],
      "metadata": {
        "execution": {
          "iopub.status.busy": "2023-05-21T09:33:06.550871Z",
          "iopub.execute_input": "2023-05-21T09:33:06.551228Z",
          "iopub.status.idle": "2023-05-21T09:33:06.722122Z",
          "shell.execute_reply.started": "2023-05-21T09:33:06.551198Z",
          "shell.execute_reply": "2023-05-21T09:33:06.720941Z"
        },
        "trusted": true,
        "id": "Q239Xhc1DOqk",
        "outputId": "966edc50-4c59-42ed-e5a2-e3bfbf2175f6"
      },
      "execution_count": null,
      "outputs": [
        {
          "name": "stderr",
          "text": "/opt/conda/lib/python3.10/site-packages/tensorflow_addons/utils/tfa_eol_msg.py:23: UserWarning: \n\nTensorFlow Addons (TFA) has ended development and introduction of new features.\nTFA has entered a minimal maintenance and release mode until a planned end of life in May 2024.\nPlease modify downstream libraries to take dependencies from other repositories in our TensorFlow community (e.g. Keras, Keras-CV, and Keras-NLP). \n\nFor more information see: https://github.com/tensorflow/addons/issues/2807 \n\n  warnings.warn(\n",
          "output_type": "stream"
        }
      ],
      "id": "Q239Xhc1DOqk"
    },
    {
      "cell_type": "code",
      "source": [
        "# Train the model\n",
        "freeze_history = model.fit(\n",
        "    X_train_tensor,\n",
        "    tf.keras.utils.to_categorical(y_train, 3),\n",
        "    epochs=10,\n",
        "    batch_size=96,\n",
        "    validation_data=(X_test_tensor, tf.keras.utils.to_categorical(y_test, 3))\n",
        ")"
      ],
      "metadata": {
        "execution": {
          "iopub.status.busy": "2023-05-21T09:33:14.872378Z",
          "iopub.execute_input": "2023-05-21T09:33:14.873192Z",
          "iopub.status.idle": "2023-05-21T14:23:02.321677Z",
          "shell.execute_reply.started": "2023-05-21T09:33:14.873156Z",
          "shell.execute_reply": "2023-05-21T14:23:02.320685Z"
        },
        "trusted": true,
        "id": "8AbHNX9iDOqk",
        "outputId": "dccad4fd-ad95-4082-fbfd-9291b9fbe1e7"
      },
      "execution_count": null,
      "outputs": [
        {
          "name": "stdout",
          "text": "Epoch 1/10\n752/752 [==============================] - 1767s 2s/step - loss: 0.9244 - cat_accuracy: 0.5590 - recall: 0.3972 - precision: 0.6295 - f1_score: 0.5579 - val_loss: 0.8418 - val_cat_accuracy: 0.6227 - val_recall: 0.5327 - val_precision: 0.6736 - val_f1_score: 0.6185\nEpoch 2/10\n752/752 [==============================] - 1719s 2s/step - loss: 0.8188 - cat_accuracy: 0.6340 - recall: 0.5252 - precision: 0.6956 - f1_score: 0.6328 - val_loss: 0.7980 - val_cat_accuracy: 0.6544 - val_recall: 0.5930 - val_precision: 0.6966 - val_f1_score: 0.6508\nEpoch 3/10\n752/752 [==============================] - 1744s 2s/step - loss: 0.7656 - cat_accuracy: 0.6644 - recall: 0.5729 - precision: 0.7204 - f1_score: 0.6635 - val_loss: 0.7553 - val_cat_accuracy: 0.6761 - val_recall: 0.6179 - val_precision: 0.7160 - val_f1_score: 0.6750\nEpoch 4/10\n752/752 [==============================] - 1743s 2s/step - loss: 0.7148 - cat_accuracy: 0.6938 - recall: 0.6198 - precision: 0.7449 - f1_score: 0.6928 - val_loss: 0.7187 - val_cat_accuracy: 0.6992 - val_recall: 0.6394 - val_precision: 0.7389 - val_f1_score: 0.6976\nEpoch 5/10\n752/752 [==============================] - 1744s 2s/step - loss: 0.6632 - cat_accuracy: 0.7174 - recall: 0.6544 - precision: 0.7610 - f1_score: 0.7164 - val_loss: 0.6868 - val_cat_accuracy: 0.7144 - val_recall: 0.6579 - val_precision: 0.7542 - val_f1_score: 0.7138\nEpoch 6/10\n752/752 [==============================] - 1719s 2s/step - loss: 0.6091 - cat_accuracy: 0.7463 - recall: 0.6949 - precision: 0.7857 - f1_score: 0.7455 - val_loss: 0.6923 - val_cat_accuracy: 0.7212 - val_recall: 0.6886 - val_precision: 0.7505 - val_f1_score: 0.7209\nEpoch 7/10\n752/752 [==============================] - 1744s 2s/step - loss: 0.5528 - cat_accuracy: 0.7726 - recall: 0.7320 - precision: 0.8052 - f1_score: 0.7719 - val_loss: 0.6781 - val_cat_accuracy: 0.7317 - val_recall: 0.6959 - val_precision: 0.7577 - val_f1_score: 0.7305\nEpoch 8/10\n752/752 [==============================] - 1744s 2s/step - loss: 0.4991 - cat_accuracy: 0.7979 - recall: 0.7642 - precision: 0.8249 - f1_score: 0.7972 - val_loss: 0.6645 - val_cat_accuracy: 0.7485 - val_recall: 0.7195 - val_precision: 0.7718 - val_f1_score: 0.7482\nEpoch 9/10\n752/752 [==============================] - 1720s 2s/step - loss: 0.4508 - cat_accuracy: 0.8201 - recall: 0.7931 - precision: 0.8428 - f1_score: 0.8195 - val_loss: 0.6551 - val_cat_accuracy: 0.7515 - val_recall: 0.7284 - val_precision: 0.7713 - val_f1_score: 0.7510\nEpoch 10/10\n752/752 [==============================] - 1744s 2s/step - loss: 0.4025 - cat_accuracy: 0.8392 - recall: 0.8170 - precision: 0.8592 - f1_score: 0.8390 - val_loss: 0.6533 - val_cat_accuracy: 0.7706 - val_recall: 0.7548 - val_precision: 0.7853 - val_f1_score: 0.7700\n",
          "output_type": "stream"
        }
      ],
      "id": "8AbHNX9iDOqk"
    },
    {
      "cell_type": "code",
      "source": [
        "import matplotlib.pyplot as plt"
      ],
      "metadata": {
        "execution": {
          "iopub.status.busy": "2023-05-21T14:23:02.615839Z",
          "iopub.execute_input": "2023-05-21T14:23:02.616499Z",
          "iopub.status.idle": "2023-05-21T14:23:02.622261Z",
          "shell.execute_reply.started": "2023-05-21T14:23:02.616456Z",
          "shell.execute_reply": "2023-05-21T14:23:02.621089Z"
        },
        "trusted": true,
        "id": "_xa4mgLSDOql"
      },
      "execution_count": null,
      "outputs": [],
      "id": "_xa4mgLSDOql"
    },
    {
      "cell_type": "code",
      "source": [
        "plt.plot(freeze_history.history[\"cat_accuracy\"], label=\"training categorical accuracy\")\n",
        "plt.plot(freeze_history.history[\"val_cat_accuracy\"], label=\"validation categorical accuracy\")\n",
        "plt.legend()\n",
        "plt.show()"
      ],
      "metadata": {
        "execution": {
          "iopub.status.busy": "2023-05-21T14:25:08.009868Z",
          "iopub.execute_input": "2023-05-21T14:25:08.010520Z",
          "iopub.status.idle": "2023-05-21T14:25:08.231783Z",
          "shell.execute_reply.started": "2023-05-21T14:25:08.010479Z",
          "shell.execute_reply": "2023-05-21T14:25:08.230837Z"
        },
        "trusted": true,
        "id": "wcbMD29JDOql",
        "outputId": "bde05dd6-4fbf-4720-c7d7-08bd84d84761"
      },
      "execution_count": null,
      "outputs": [
        {
          "output_type": "display_data",
          "data": {
            "text/plain": "<Figure size 640x480 with 1 Axes>",
            "image/png": "[encoded data removed]"
          },
          "metadata": {}
        }
      ],
      "id": "wcbMD29JDOql"
    },
    {
      "cell_type": "code",
      "source": [
        "plt.plot(freeze_history.history[\"loss\"], label=\"training loss\")\n",
        "plt.plot(freeze_history.history[\"val_loss\"], label=\"validation loss\")\n",
        "plt.legend()\n",
        "plt.show()"
      ],
      "metadata": {
        "execution": {
          "iopub.status.busy": "2023-05-21T14:24:14.188576Z",
          "iopub.execute_input": "2023-05-21T14:24:14.188926Z",
          "iopub.status.idle": "2023-05-21T14:24:14.431343Z",
          "shell.execute_reply.started": "2023-05-21T14:24:14.188899Z",
          "shell.execute_reply": "2023-05-21T14:24:14.430437Z"
        },
        "trusted": true,
        "id": "nTmaq2vnDOql",
        "outputId": "9e0e9366-bbbc-4e56-a8fa-81b934ae468f"
      },
      "execution_count": null,
      "outputs": [
        {
          "output_type": "display_data",
          "data": {
            "text/plain": "<Figure size 640x480 with 1 Axes>",
            "image/png": "[encoded data removed]"
          },
          "metadata": {}
        }
      ],
      "id": "nTmaq2vnDOql"
    },
    {
      "cell_type": "code",
      "source": [
        "plt.plot(freeze_history.history[\"recall\"], label=\"training recall\")\n",
        "plt.plot(freeze_history.history[\"val_recall\"], label=\"validation recall\")\n",
        "plt.legend()\n",
        "plt.show()"
      ],
      "metadata": {
        "execution": {
          "iopub.status.busy": "2023-05-21T14:24:17.310028Z",
          "iopub.execute_input": "2023-05-21T14:24:17.310385Z",
          "iopub.status.idle": "2023-05-21T14:24:17.516467Z",
          "shell.execute_reply.started": "2023-05-21T14:24:17.310358Z",
          "shell.execute_reply": "2023-05-21T14:24:17.515469Z"
        },
        "trusted": true,
        "id": "vLOEBKrjDOql",
        "outputId": "e6dee3e6-d9aa-4279-ab6f-9fca29ff7f9d"
      },
      "execution_count": null,
      "outputs": [
        {
          "output_type": "display_data",
          "data": {
            "text/plain": "<Figure size 640x480 with 1 Axes>",
            "image/png": "[encoded data removed]"
          },
          "metadata": {}
        }
      ],
      "id": "vLOEBKrjDOql"
    },
    {
      "cell_type": "code",
      "source": [
        "plt.plot(freeze_history.history[\"precision\"], label=\"training precision\")\n",
        "plt.plot(freeze_history.history[\"val_precision\"], label=\"validation precision\")\n",
        "plt.legend()\n",
        "plt.show()"
      ],
      "metadata": {
        "execution": {
          "iopub.status.busy": "2023-05-21T14:24:20.129090Z",
          "iopub.execute_input": "2023-05-21T14:24:20.129444Z",
          "iopub.status.idle": "2023-05-21T14:24:20.337408Z",
          "shell.execute_reply.started": "2023-05-21T14:24:20.129415Z",
          "shell.execute_reply": "2023-05-21T14:24:20.336438Z"
        },
        "trusted": true,
        "id": "qGQnhuP6DOqm",
        "outputId": "ad61c290-01e8-461a-fe30-71fbc56c0e66"
      },
      "execution_count": null,
      "outputs": [
        {
          "output_type": "display_data",
          "data": {
            "text/plain": "<Figure size 640x480 with 1 Axes>",
            "image/png": "[encoded data removed]"
          },
          "metadata": {}
        }
      ],
      "id": "qGQnhuP6DOqm"
    }
  ]
}